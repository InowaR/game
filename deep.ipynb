{
  "nbformat": 4,
  "nbformat_minor": 0,
  "metadata": {
    "colab": {
      "provenance": [],
      "authorship_tag": "ABX9TyMVAngbbBpFpCf4/74ygejj",
      "include_colab_link": true
    },
    "kernelspec": {
      "name": "python3",
      "display_name": "Python 3"
    },
    "language_info": {
      "name": "python"
    }
  },
  "cells": [
    {
      "cell_type": "markdown",
      "metadata": {
        "id": "view-in-github",
        "colab_type": "text"
      },
      "source": [
        "<a href=\"https://colab.research.google.com/github/InowaR/game/blob/main/deep.ipynb\" target=\"_parent\"><img src=\"https://colab.research.google.com/assets/colab-badge.svg\" alt=\"Open In Colab\"/></a>"
      ]
    },
    {
      "cell_type": "code",
      "execution_count": 140,
      "metadata": {
        "colab": {
          "base_uri": "https://localhost:8080/"
        },
        "id": "09abkNW9e0yo",
        "outputId": "2e238b2f-c22e-4810-b1bd-8e432671e03b"
      },
      "outputs": [
        {
          "output_type": "stream",
          "name": "stdout",
          "text": [
            "[[0.99 0.   0.02 0.  ]]\n"
          ]
        }
      ],
      "source": [
        "import numpy as np\n",
        "\n",
        "def train(X, Y):\n",
        "  learning_rate = 1\n",
        "  w1 = np.random.random((3,9))\n",
        "  w2 = np.random.random((9,4)) \n",
        "  w3 = np.random.random((4,4))\n",
        "  w4 = np.random.random((4,4))\n",
        "\n",
        "  for i in range(60000):\n",
        "    S1 = 1 / (1 + np.exp(-(np.dot(X, w1))))\n",
        "    S2 = 1 / (1 + np.exp(-(np.dot(S1, w2))))\n",
        "    S3 = 1 / (1 + np.exp(-(np.dot(S2, w3))))\n",
        "    S4 = 1 / (1 + np.exp(-(np.dot(S3, w4))))\n",
        "    S4_delta = (Y - S4) * (S4 * (1 - S4))\n",
        "    S3_delta = S4_delta.dot(w4.T) * (S3 * (1 - S3))\n",
        "    S2_delta = S3_delta.dot(w3.T) * (S2 * (1 - S2))\n",
        "    S1_delta = S2_delta.dot(w2.T) * (S1 * (1 - S1))\n",
        "    w4 += learning_rate * S3.T.dot(S4_delta)\n",
        "    w3 += learning_rate * S2.T.dot(S3_delta)\n",
        "    w2 += learning_rate * S1.T.dot(S2_delta)\n",
        "    w1 += learning_rate * X.T.dot(S1_delta)\n",
        "  return w1, w2, w3, w4\n",
        "\n",
        "def predict(test, w1, w2, w3, w4):\n",
        "  S1 = 1 / (1 + np.exp(-(np.dot(test, w1))))\n",
        "  S2 = 1 / (1 + np.exp(-(np.dot(S1, w2))))\n",
        "  S3 = 1 / (1 + np.exp(-(np.dot(S2, w3))))\n",
        "  S4 = 1 / (1 + np.exp(-(np.dot(S3, w4))))\n",
        "  return S4\n",
        "\n",
        "def main():\n",
        "  a = train(X, Y)\n",
        "  w1, w2, w3, w4 = a\n",
        "  b = predict(test, w1, w2, w3, w4)\n",
        "  print(np.round(b,2))\n",
        "\n",
        "if __name__ == \"__main__\":\n",
        "  X = np.array([[0.9,0.1,0.2],[0.1,0.5,0.7],[0.5,0.1,0.2],[0.4,0.9,0.3]])\n",
        "  Y = np.array([[1,0,0,0],[0,1,0,0],[0,0,1,0],[0,0,0,1]])\n",
        "  test = np.array([[0.9,0.1,0.2]])\n",
        "  main()"
      ]
    }
  ]
}