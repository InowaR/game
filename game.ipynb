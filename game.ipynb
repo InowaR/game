{
  "nbformat": 4,
  "nbformat_minor": 0,
  "metadata": {
    "colab": {
      "provenance": [],
      "authorship_tag": "ABX9TyO2fnMEJaEnbgqwDEaL9VCD",
      "include_colab_link": true
    },
    "kernelspec": {
      "name": "python3",
      "display_name": "Python 3"
    },
    "language_info": {
      "name": "python"
    }
  },
  "cells": [
    {
      "cell_type": "markdown",
      "metadata": {
        "id": "view-in-github",
        "colab_type": "text"
      },
      "source": [
        "<a href=\"https://colab.research.google.com/github/InowaR/game/blob/main/game.ipynb\" target=\"_parent\"><img src=\"https://colab.research.google.com/assets/colab-badge.svg\" alt=\"Open In Colab\"/></a>"
      ]
    },
    {
      "cell_type": "code",
      "execution_count": 14,
      "metadata": {
        "id": "sBdbDtTwZO6d",
        "colab": {
          "base_uri": "https://localhost:8080/"
        },
        "outputId": "a58b6d20-f6f8-455b-b694-9d3c8d7b21c4"
      },
      "outputs": [
        {
          "output_type": "stream",
          "name": "stdout",
          "text": [
            "Exit map\n"
          ]
        }
      ],
      "source": [
        "import numpy as np\n",
        "from google.colab import output\n",
        "\n",
        "def object():\n",
        "  a = np.array([[0, 0, 0, 0, 0, 0], [0, 0, 1, 1, 0, 0], [0, 0, 1, 1, 0, 0], [0, 0, 1, 1, 0, 0], [0, 0, 0, 0, 0, 0], [0, 0, 0, 0, 0, 0]])\n",
        "  reshape = a.reshape(6,6)\n",
        "  print(reshape)\n",
        "  vector = np.ravel(a)\n",
        "  row = []\n",
        "  count = 0\n",
        "  for i in vector:\n",
        "    if i == 1:\n",
        "      row.append(count)\n",
        "    count +=1\n",
        "  print(row, \"row indexes\")\n",
        "  b = np.zeros(36)\n",
        "  for i in row:\n",
        "    b[i] = 1\n",
        "  start = 0              # start point\n",
        "  b[start] = 2\n",
        "  print(b.reshape(6,6))\n",
        "  return b\n",
        "\n",
        "def play():\n",
        "  b = object()\n",
        "  i = 0\n",
        "  while True:\n",
        "    try:\n",
        "      button = input()\n",
        "      output.clear()\n",
        "      if button == \"d\":\n",
        "        if b[i + 1] == 1:\n",
        "          print(b.reshape(6,6))\n",
        "          continue           \n",
        "        b[i + 1] = 2\n",
        "        output.clear()\n",
        "        print(b.reshape(6,6))\n",
        "        i += 1\n",
        "      elif button == \"s\":\n",
        "        print(b.reshape(6,6))\n",
        "        if b[i + 6] == 1:\n",
        "          continue  \n",
        "        b[i + 6] = 2\n",
        "        output.clear()\n",
        "        print(b.reshape(6,6))\n",
        "        i += 6\n",
        "      elif button == \"a\":\n",
        "        if b[i - 1] == 1:\n",
        "          print(b.reshape(6,6))\n",
        "          continue\n",
        "        b[i - 1] = 2\n",
        "        output.clear()\n",
        "        print(b.reshape(6,6))\n",
        "        i -= 1\n",
        "      elif button == \"w\":\n",
        "        if b[i - 6] == 1:\n",
        "          print(b.reshape(6,6))\n",
        "          continue\n",
        "        b[i - 6] = 2\n",
        "        output.clear()\n",
        "        print(b.reshape(6,6))\n",
        "        i -= 6\n",
        "      else:\n",
        "        print(\"Exit map\")\n",
        "        break\n",
        "    except:\n",
        "      print(b.reshape(6,6))\n",
        "      continue\n",
        "\n",
        "play()"
      ]
    }
  ]
}