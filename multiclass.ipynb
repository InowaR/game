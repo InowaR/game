{
  "nbformat": 4,
  "nbformat_minor": 0,
  "metadata": {
    "colab": {
      "provenance": [],
      "authorship_tag": "ABX9TyMZqHVFpgXbTrFN4aTiyzFD",
      "include_colab_link": true
    },
    "kernelspec": {
      "name": "python3",
      "display_name": "Python 3"
    },
    "language_info": {
      "name": "python"
    }
  },
  "cells": [
    {
      "cell_type": "markdown",
      "metadata": {
        "id": "view-in-github",
        "colab_type": "text"
      },
      "source": [
        "<a href=\"https://colab.research.google.com/github/InowaR/game/blob/main/multiclass.ipynb\" target=\"_parent\"><img src=\"https://colab.research.google.com/assets/colab-badge.svg\" alt=\"Open In Colab\"/></a>"
      ]
    },
    {
      "cell_type": "code",
      "execution_count": 323,
      "metadata": {
        "colab": {
          "base_uri": "https://localhost:8080/"
        },
        "id": "09abkNW9e0yo",
        "outputId": "3373bb82-3c82-4478-a68e-4ad698caa989"
      },
      "outputs": [
        {
          "output_type": "stream",
          "name": "stdout",
          "text": [
            "[[0.01 0.   0.99 0.  ]]\n"
          ]
        }
      ],
      "source": [
        "import numpy as np\n",
        "\n",
        "def train(X, Y):\n",
        "  learning_rate = 10\n",
        "  w1 = np.random.random((2,10))  # multiclass classification needs more weights\n",
        "  w2 = np.random.random((10,4))   \n",
        "  for i in range(10000):\n",
        "    S1 = 1 / (1 + np.exp(-(np.dot(X, w1))))\n",
        "    S2 = 1 / (1 + np.exp(-(np.dot(S1, w2))))\n",
        "    S2_delta = (Y - S2) * (S2 * (1 - S2))\n",
        "    S1_delta = S2_delta.dot(w2.T) * (S1 * (1 - S1))\n",
        "    w1 += learning_rate * X.T.dot(S1_delta)\n",
        "    w2 += learning_rate * S1.T.dot(S2_delta)\n",
        "  return w1, w2\n",
        "\n",
        "def predict(test, w1, w2):\n",
        "  S1 = 1 / (1 + np.exp(-(np.dot(test, w1))))\n",
        "  S2 = 1 / (1 + np.exp(-(np.dot(S1, w2))))\n",
        "  return S2\n",
        "\n",
        "def main():\n",
        "  a = train(X, Y)\n",
        "  w1, w2 = a\n",
        "  b = predict(test, w1, w2)\n",
        "  print(np.round(b,2))\n",
        "\n",
        "if __name__ == \"__main__\":\n",
        "  X = np.array([[0.9,0.1],[0.1,0.5],[0.5,0.1],[0.4,0.9]])\n",
        "  Y = np.array([[1,0,0,0],[0,1,0,0],[0,0,1,0],[0,0,0,1]])  # regression needs transposition .T\n",
        "  test = np.array([[0.5,0.1]])\n",
        "  main()"
      ]
    }
  ]
}